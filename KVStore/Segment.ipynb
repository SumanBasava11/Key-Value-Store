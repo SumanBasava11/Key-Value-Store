{
 "cells": [
  {
   "cell_type": "code",
   "execution_count": null,
   "metadata": {},
   "outputs": [],
   "source": [
    "import os\n",
    "import struct\n",
    "import pickle\n",
    "from collections import OrderedDict\n",
    "\n",
    "\n",
    "class Segment:\n",
    "    \"\"\"\n",
    "    A log-structured segment for appending key-value data.\n",
    "    \"\"\"\n",
    "    def __init__(self, path, segment_id):\n",
    "        self.path = os.path.join(path, f\"segment_{segment_id}.log\")\n",
    "        self.file = open(self.path, \"ab+\")\n",
    "        self.id = segment_id\n",
    "\n",
    "    def write(self, key, value):\n",
    "        offset = self.file.tell()\n",
    "        serialized = pickle.dumps((key, value))\n",
    "        self.file.write(struct.pack(\"I\", len(serialized)))\n",
    "        self.file.write(serialized)\n",
    "        self.file.flush()\n",
    "        return offset\n",
    "\n",
    "    def read(self, offset):\n",
    "        self.file.seek(offset)\n",
    "        size = struct.unpack(\"I\", self.file.read(4))[0]\n",
    "        serialized = self.file.read(size)\n",
    "        return pickle.loads(serialized)\n",
    "\n",
    "    def close(self):\n",
    "        self.file.close()\n",
    "\n",
    "class SegmentManager:\n",
    "    \"\"\"\n",
    "    Manages multiple log-structured segments.\n",
    "    \"\"\"\n",
    "    def __init__(self, path):\n",
    "        self.path = path\n",
    "        self.segments = OrderedDict()\n",
    "        self.counter = 0\n",
    "\n",
    "    def new_segment(self):\n",
    "        segment = Segment(self.path, self.counter)\n",
    "        self.segments[self.counter] = segment\n",
    "        self.counter += 1\n",
    "        return segment\n",
    "\n",
    "    def close(self):\n",
    "        for segment in self.segments.values():\n",
    "            segment.close()"
   ]
  }
 ],
 "metadata": {
  "kernelspec": {
   "display_name": "Python 3",
   "language": "python",
   "name": "python3"
  },
  "language_info": {
   "name": "python",
   "version": "3.12.8"
  }
 },
 "nbformat": 4,
 "nbformat_minor": 2
}
