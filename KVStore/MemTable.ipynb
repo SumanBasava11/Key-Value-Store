{
 "cells": [
  {
   "cell_type": "code",
   "execution_count": null,
   "metadata": {},
   "outputs": [],
   "source": [
    "import os\n",
    "\n",
    "class MemTable:\n",
    "    \"\"\"\n",
    "    In-memory key-value store before flushing to disk.\n",
    "    \"\"\"\n",
    "    def __init__(self):\n",
    "        self.table = {}\n",
    "\n",
    "    def set(self, key, value):\n",
    "        self.table[key] = value\n",
    "\n",
    "    def get(self, key):\n",
    "        return self.table.get(key)\n",
    "\n",
    "    def delete(self, key):\n",
    "        self.table[key] = None\n",
    "\n",
    "    def flush(self):\n",
    "        data = self.table.copy()\n",
    "        self.table.clear()\n",
    "        return data"
   ]
  }
 ],
 "metadata": {
  "kernelspec": {
   "display_name": "Python 3",
   "language": "python",
   "name": "python3"
  },
  "language_info": {
   "name": "python",
   "version": "3.12.8"
  }
 },
 "nbformat": 4,
 "nbformat_minor": 2
}
