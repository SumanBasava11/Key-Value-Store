{
 "cells": [
  {
   "cell_type": "code",
   "execution_count": null,
   "metadata": {},
   "outputs": [],
   "source": [
    "import time\n",
    "from Data import DataGenerator\n",
    "from MainClass import KVStore\n",
    "\n",
    "class Benchmark:\n",
    "    \"\"\"\n",
    "    Basic benchmarking for the KVStore.\n",
    "    \"\"\"\n",
    "    @staticmethod\n",
    "    def run(store, data_file, num_operations=10000):\n",
    "        print(\"Starting benchmark...\")\n",
    "        start_time = time.time()\n",
    "\n",
    "        # Load data\n",
    "        data = list(DataGenerator.load_data(data_file))\n",
    "\n",
    "        # Set operations\n",
    "        for key, value in data[:num_operations]:\n",
    "            store.set(key, value)\n",
    "\n",
    "        # Get operations\n",
    "        for key, _ in data[:num_operations]:\n",
    "            _ = store.get(key)\n",
    "\n",
    "        # Delete operations\n",
    "        for key, _ in data[:num_operations]:\n",
    "            store.delete(key)\n",
    "\n",
    "        end_time = time.time()\n",
    "        print(f\"Completed {num_operations * 3} operations in {end_time - start_time:.2f} seconds.\")\n",
    "\n",
    "if __name__ == \"__main__\":\n",
    "    # Generate and store data\n",
    "    data_file = DataGenerator.generate_data(10000)\n",
    "\n",
    "    # Initialize KVStore\n",
    "    store = KVStore(\"./kvstore\")\n",
    "\n",
    "    # Run benchmark with generated data\n",
    "    Benchmark.run(store, data_file, 10000)\n",
    "\n",
    "    store.close()"
   ]
  }
 ],
 "metadata": {
  "kernelspec": {
   "display_name": "Python 3",
   "language": "python",
   "name": "python3"
  },
  "language_info": {
   "name": "python",
   "version": "3.12.8"
  }
 },
 "nbformat": 4,
 "nbformat_minor": 2
}
