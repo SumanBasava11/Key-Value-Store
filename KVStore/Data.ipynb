{
 "cells": [
  {
   "cell_type": "code",
   "execution_count": null,
   "metadata": {},
   "outputs": [],
   "source": [
    "import os\n",
    "import random\n",
    "import string\n",
    "\n",
    "class DataGenerator:\n",
    "    \"\"\"\n",
    "    Generates key-value pairs and stores them in ./StoreData for use in benchmarking.\n",
    "    \"\"\"\n",
    "    @staticmethod\n",
    "    def generate_data(num_pairs=10000, store_path=\"./StoreData\"):\n",
    "        os.makedirs(store_path, exist_ok=True)\n",
    "        data_file = os.path.join(store_path, \"data.txt\")\n",
    "\n",
    "        with open(data_file, \"w\") as f:\n",
    "            for _ in range(num_pairs):\n",
    "                key = ''.join(random.choices(string.ascii_letters + string.digits, k=16))\n",
    "                value = ''.join(random.choices(string.ascii_letters + string.digits, k=32))\n",
    "                f.write(f\"{key}\\t{value}\\n\")\n",
    "\n",
    "        return data_file\n",
    "\n",
    "    @staticmethod\n",
    "    def load_data(file_path):\n",
    "        with open(file_path, \"r\") as f:\n",
    "            for line in f:\n",
    "                key, value = line.strip().split(\"\\t\")\n",
    "                yield key, value"
   ]
  }
 ],
 "metadata": {
  "kernelspec": {
   "display_name": "Python 3",
   "language": "python",
   "name": "python3"
  },
  "language_info": {
   "name": "python",
   "version": "3.12.8"
  }
 },
 "nbformat": 4,
 "nbformat_minor": 2
}
