{
 "cells": [
  {
   "cell_type": "code",
   "execution_count": null,
   "metadata": {},
   "outputs": [],
   "source": [
    "import os\n",
    "from threading import Lock\n",
    "\n",
    "\n",
    "class WriteAheadLog:\n",
    "    \"\"\"\n",
    "    Write-Ahead Log ensures durability for the key-value store by logging all changes to disk.\n",
    "    \"\"\"\n",
    "    def __init__(self, path):\n",
    "        self.path = os.path.join(path, \"wal.log\")\n",
    "        self.lock = Lock()\n",
    "        os.makedirs(path, exist_ok=True)\n",
    "        self.file = open(self.path, \"a+\")\n",
    "\n",
    "    def write(self, operation, key, value=None):\n",
    "        \"\"\"Log operations as OP\\tKEY\\tVALUE.\"\"\"\n",
    "        with self.lock:\n",
    "            entry = f\"{operation}\\t{key}\\t{value}\\n\"\n",
    "            self.file.write(entry if value is not None else f\"{operation}\\t{key}\\n\")\n",
    "            self.file.flush()\n",
    "\n",
    "    def read_all(self):\n",
    "        with open(self.path, \"r\") as f:\n",
    "            for line in f:\n",
    "                parts = line.strip().split(\"\\t\")\n",
    "                if len(parts) == 3:\n",
    "                    yield (parts[0], parts[1], parts[2])\n",
    "                elif len(parts) == 2:\n",
    "                    yield (parts[0], parts[1], None)"
   ]
  }
 ],
 "metadata": {
  "kernelspec": {
   "display_name": "Python 3",
   "language": "python",
   "name": "python3"
  },
  "language_info": {
   "name": "python",
   "version": "3.12.8"
  }
 },
 "nbformat": 4,
 "nbformat_minor": 2
}
